{
 "cells": [
  {
   "cell_type": "markdown",
   "id": "878ca4be",
   "metadata": {},
   "source": [
    "estoy en la main hola"
   ]
  }
 ],
 "metadata": {
  "language_info": {
   "name": "python"
  }
 },
 "nbformat": 4,
 "nbformat_minor": 5
}
